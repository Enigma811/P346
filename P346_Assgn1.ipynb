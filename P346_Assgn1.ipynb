{
  "nbformat": 4,
  "nbformat_minor": 0,
  "metadata": {
    "colab": {
      "name": "P346 Assgn1.ipynb",
      "provenance": [],
      "collapsed_sections": []
    },
    "kernelspec": {
      "name": "python3",
      "display_name": "Python 3"
    },
    "language_info": {
      "name": "python"
    }
  },
  "cells": [
    {
      "cell_type": "code",
      "execution_count": null,
      "metadata": {
        "id": "u-TLibmRyKLF",
        "colab": {
          "base_uri": "https://localhost:8080/"
        },
        "outputId": "bfa72b72-4c48-4815-a5e8-8c83477c942b"
      },
      "outputs": [
        {
          "output_type": "stream",
          "name": "stdout",
          "text": [
            "Example: Sum of first 3 odd terms\n",
            "9\n",
            "\n",
            "Example: Factorial of 5\n",
            "\n",
            "120\n"
          ]
        }
      ],
      "source": [
        "#Q1\n",
        "\n",
        "# Sum of N odd numbers\n",
        "def sum_odd(n):\n",
        "  sum = 0\n",
        "  for i in range(0,n):\n",
        "    p = 2*i + 1 # ith term\n",
        "    sum = sum + p\n",
        "  return(sum)\n",
        "\n",
        "\n",
        "#Factorial of N\n",
        "def fact(n):\n",
        "  if type(n) != int:\n",
        "    return \"Enter a non negative integer input\"\n",
        "  else:\n",
        "    print()\n",
        "  p = 1\n",
        "  fact = 1\n",
        "  for i in range(0,n):\n",
        "    fact = fact*p\n",
        "    p = p + 1\n",
        "  return(fact)\n",
        "\n",
        "#The relevant functions have been defined generally, the following executed examples take given inputs.\n",
        "#The input/output may be done through separate files as well.\n",
        "\n",
        "print(\"Example: Sum of first 3 odd terms\")\n",
        "print(sum_odd(3)) #Dummy Inputs : Change inputs here\n",
        "print()\n",
        "print(\"Example: Factorial of 5\")\n",
        "print(fact(5)) #Dummy Inputs : Change inputs here"
      ]
    },
    {
      "cell_type": "code",
      "source": [
        "#Q2\n",
        "\n",
        "#AP of N numbers\n",
        "def sum_ap(n, ini, cd):  # ini: first term, cd: common difference\n",
        "  nt = ini # nt: Next Term\n",
        "  ap = 0 # ap: Sum of  first n terms\n",
        "  for i in range(0,n):\n",
        "    ap = ap + nt\n",
        "    nt = nt + cd\n",
        "  return(ap)\n",
        "\n",
        "\n",
        "#GP of N numbers\n",
        "def sum_gp(n, ini, cr): # ini: first term, cr: common ratio\n",
        "  nt = ini\n",
        "  gp = 0\n",
        "  for i in range(0,n):\n",
        "    gp = gp + nt\n",
        "    nt = nt*cr\n",
        "  return(gp)\n",
        "\n",
        "\n",
        "#HP of N numbers\n",
        "\n",
        "def sum_hp(n, ini, cd): # ini: first term, cd: common difference\n",
        "  nt = ini\n",
        "  hp = 0\n",
        "  for i in range(0,n):\n",
        "    hp = hp + nt\n",
        "    nt = 1/((1/nt) + cd)\n",
        "  return(hp)\n",
        "\n",
        "#The relevant functions have been defined generally, the following executed examples take given inputs.\n",
        "#The input/output may be done through separate files as well.\n",
        "\n",
        "print(\"Example: Sum of terms in AP\")\n",
        "print(sum_ap(3, 2, 1.5)) #Dummy Inputs : Change inputs here\n",
        "print()\n",
        "print(\"Example: Sum of terms in GP\")\n",
        "print(sum_gp(3, 4.34, 0.5)) #Dummy Inputs : Change inputs here\n",
        "print()\n",
        "print(\"Example: Sum of terms in HP\")\n",
        "print(sum_hp(4, 1, 1.5)) #Dummy Inputs : Change inputs here"
      ],
      "metadata": {
        "id": "FQydS6hmyRSq",
        "colab": {
          "base_uri": "https://localhost:8080/"
        },
        "outputId": "bfb3c37f-6dc2-4832-e11f-558d1226118a"
      },
      "execution_count": null,
      "outputs": [
        {
          "output_type": "stream",
          "name": "stdout",
          "text": [
            "Example: Sum of terms in AP\n",
            "10.5\n",
            "\n",
            "Example: Sum of terms in GP\n",
            "7.595\n",
            "\n",
            "Example: Sum of terms in HP\n",
            "1.8318181818181818\n"
          ]
        }
      ]
    },
    {
      "cell_type": "code",
      "source": [
        "#Q3\n",
        "\n",
        "import matplotlib.pyplot as plt\n",
        "\n",
        "#sum of first n terms of series\n",
        "def sum_series(n):\n",
        "  sum = 0\n",
        "  for i in range(1,n+1):\n",
        "    nt = ((-1)**(i + 1))/(2**i)\n",
        "    sum = sum + nt\n",
        "  return(sum)\n",
        "\n",
        "#plot of series sum vs n upto first n terms\n",
        "def plot_seriessum(n):\n",
        "  x = [0] * n\n",
        "  y = [0] * n\n",
        "  sum = 0\n",
        "  for i in range(1,n+1):\n",
        "    nt = ((-1)**(i + 1))/(2**i)\n",
        "    x[i-1] = i\n",
        "    sum = sum + nt\n",
        "    y[i-1] = sum\n",
        "  \n",
        "  plt.plot(x,y)\n",
        "  plt.xlabel(\"n\")\n",
        "  plt.ylabel(\"Sum of first n terms\")\n",
        "  plt.title(\"Sum of series vs n\")\n",
        "  plt.show()\n",
        "\n",
        "#The relevant functions have been defined generally, the following executed examples take given inputs.\n",
        "#The input/output may be done through separate files as well.\n",
        "\n",
        "print(\"Example: Sum of first N terms of given series\")\n",
        "print(sum_series(200)) #Dummy Inputs : Change inputs here\n",
        "print()\n",
        "plot_seriessum(20)"
      ],
      "metadata": {
        "id": "ky0ixL_gyTSB",
        "colab": {
          "base_uri": "https://localhost:8080/",
          "height": 347
        },
        "outputId": "7873ffb0-1476-49ed-e56e-bb0bad8ca538"
      },
      "execution_count": 1,
      "outputs": [
        {
          "output_type": "stream",
          "name": "stdout",
          "text": [
            "Example: Sum of first N terms of given series\n",
            "0.33333333333333337\n",
            "\n"
          ]
        },
        {
          "output_type": "display_data",
          "data": {
            "text/plain": [
              "<Figure size 432x288 with 1 Axes>"
            ],
            "image/png": "[encoded data removed]"
          },
          "metadata": {
            "needs_background": "light"
          }
        }
      ]
    },
    {
      "cell_type": "code",
      "source": [
        "#Q4\n",
        "\n",
        "#printing matrix\n",
        "def prm(x):\n",
        "  for i in range(0, len(x)):\n",
        "    print(x[i])\n",
        "    print()\n",
        "\n",
        "#dot product - 2 column vectors\n",
        "def dotpr_col(x,y):\n",
        "  if len(x) & len(y):\n",
        "    if (len(x) == len(y)) & (len(x[0]) == 1) & (len(y[0]) == 1):\n",
        "      sum = 0\n",
        "      for i in range(0, len(y)):\n",
        "        sum = sum + ((x[i][0])*(y[i][0]))\n",
        "      return(sum)\n",
        "    else:\n",
        "      print(\"Product undefined - Incorrect # vector components\")\n",
        "  else:\n",
        "    print(\"Invalid Inputs\")\n",
        "\n",
        "\n",
        "def mat_prod(x,y): #for XY\n",
        "  if len(x[0]) != len(y):\n",
        "    print(\"Product not defined: Incorrect matrix order\")\n",
        "  else:\n",
        "    #dynamic creation of blank product matrix \n",
        "    val = [0] * len(x) \n",
        "    for n in range (len(x)): val[n] = [0] * len(y[0])\n",
        "\n",
        "    #evaluating the elements of product matrix\n",
        "    for i in range(0, len(val)):        \n",
        "      for j in range (0, len(val[0])):\n",
        "        sum = 0\n",
        "        for k in range(0, len(y)):\n",
        "          # print(x[i][r])\n",
        "          # p = x[i]\n",
        "          sum = sum + (x[i][k])*(y[k][j])\n",
        "        val[i][j] = sum\n",
        "\n",
        "    return(val)\n",
        "\n",
        "#The relevant functions have been defined generally, the following executed examples take given inputs.\n",
        "#The input/output may be done through separate files as well.\n",
        "\n",
        "A = [[2,-3,1.4],[2.5,1,-2],[-0.8,0,3.1]]  #Dummy Inputs : Change inputs here\n",
        "B = [[0,-1,1],[1.5,0.5,-2],[3,0,-2]]      #Dummy Inputs : Change inputs here\n",
        "C = [[-2],[0.5],[1.5]]                    #Dummy Inputs : Change inputs here\n",
        "D = [[1],[0],[-1]]                        #Dummy Inputs : Change inputs here\n",
        "\n",
        "print(\"Example: D.C\")\n",
        "print(dotpr_col(D,C))\n",
        "print()\n",
        "print(\"Example: AB\")\n",
        "prm(mat_prod(A,B))\n",
        "print()\n",
        "print(\"Example: BC\")\n",
        "prm(mat_prod(B,C))\n",
        "print()"
      ],
      "metadata": {
        "colab": {
          "base_uri": "https://localhost:8080/"
        },
        "id": "xb-t6W1C1x6g",
        "outputId": "5813a05b-0ccc-4527-f212-5963aff32164"
      },
      "execution_count": null,
      "outputs": [
        {
          "output_type": "stream",
          "name": "stdout",
          "text": [
            "Example: D.C\n",
            "-3.5\n",
            "\n",
            "Example: AB\n",
            "[-0.3000000000000007, -3.5, 5.2]\n",
            "\n",
            "[-4.5, -2.0, 4.5]\n",
            "\n",
            "[9.3, 0.8, -7.0]\n",
            "\n",
            "\n",
            "Example: BC\n",
            "[1.0]\n",
            "\n",
            "[-5.75]\n",
            "\n",
            "[-9.0]\n",
            "\n",
            "\n"
          ]
        }
      ]
    },
    {
      "cell_type": "code",
      "source": [
        "#Q4 (DIFFERENT APPROACH)\n",
        "\n",
        "#printing matrix\n",
        "def prm(x):\n",
        "  for i in range(0, len(x)):\n",
        "    print(x[i])\n",
        "    print()\n",
        "\n",
        "#transpose of a matrix\n",
        "def trans(x):\n",
        "  y = [0] * len(x[0])\n",
        "  for k in range(0,len(x[0])): y[k] = [0] * len(x)\n",
        "  for i in range(0, len(x[0])):\n",
        "    for j in range(0, len(x)):\n",
        "      y[i][j] = x[j][i]\n",
        "  return(y)\n",
        "\n",
        "#dot product - 2 column vectors (returns the dot product value)\n",
        "def dotpr_col(x,y):\n",
        "  if len(x) & len(y):\n",
        "    if len(x) == len(y):\n",
        "      sum = 0\n",
        "      for i in range(0, len(y)):\n",
        "        sum = sum + ((x[i][0])*(y[i][0]))\n",
        "      return(sum)\n",
        "    else:\n",
        "      print(\"Product undefined - Incorrect # vector components\")\n",
        "  else:\n",
        "    print(\"Invalid Inputs\")\n",
        "\n",
        "\n",
        "#two-matrix product - returns the product matrix\n",
        "def mat_prod(x,y): #for XY\n",
        "  if len(x[0]) != len(y):\n",
        "    print(\"Product not defined: Incorrect matrix order\")\n",
        "  else:\n",
        "    #dynamic creation of blank product matrix \n",
        "    val = [0] * len(x)\n",
        "    for n in range (len(x)): val[n] = [0] * len(y[0])\n",
        "\n",
        "\n",
        "    p = [0] * len(y)\n",
        "    q = [0] * len(y)\n",
        "    m = trans(x)\n",
        "    for i in range(0, len(val)):\n",
        "            \n",
        "      for j in range (0, len(val[0])):\n",
        "        for k in range(0, len(y)):\n",
        "          t1 = y[k][j]\n",
        "          t2 = m[k][i]\n",
        "          q[k] = [t1]\n",
        "          p[k] = [t2]\n",
        "          # print(x[i][r])\n",
        "          # p = x[i]\n",
        "          #sum = sum + (x[i][print(k)])*(y[print(k)][j])\n",
        "        val[i][j] = dotpr_col(p,q)\n",
        "\n",
        "    return(val)\n",
        "\n",
        "#The relevant functions have been defined generally, the following executed examples take given inputs\n",
        "#The input/output may be done through separate files as well.\n",
        "\n",
        "A = [[2,-3,1.4],[2.5,1,-2],[-0.8,0,3.1]]  #Dummy Inputs : Change inputs here\n",
        "B = [[0,-1,1],[1.5,0.5,-2],[3,0,-2]]      #Dummy Inputs : Change inputs here\n",
        "C = [[-2],[0.5],[1.5]]                    #Dummy Inputs : Change inputs here\n",
        "D = [[1],[0],[-1]]                        #Dummy Inputs : Change inputs here\n",
        "\n",
        "print(\"Example: D.C\")\n",
        "print(dotpr_col(D,C))\n",
        "print()\n",
        "print(\"Example: AB\")\n",
        "prm(mat_prod(A,B))\n",
        "print()\n",
        "print(\"Example: BC\")\n",
        "prm(mat_prod(B,C))\n",
        "print()"
      ],
      "metadata": {
        "id": "2rsBd4O_yVUq",
        "colab": {
          "base_uri": "https://localhost:8080/"
        },
        "outputId": "c9797955-97a4-4e40-ce41-c6f9acb2111c"
      },
      "execution_count": null,
      "outputs": [
        {
          "output_type": "stream",
          "name": "stdout",
          "text": [
            "Example: D.C\n",
            "-3.5\n",
            "\n",
            "Example: AB\n",
            "[-0.3000000000000007, -3.5, 5.2]\n",
            "\n",
            "[-4.5, -2.0, 4.5]\n",
            "\n",
            "[9.3, 0.8, -7.0]\n",
            "\n",
            "\n",
            "Example: BC\n",
            "[1.0]\n",
            "\n",
            "[-5.75]\n",
            "\n",
            "[-9.0]\n",
            "\n",
            "\n"
          ]
        }
      ]
    },
    {
      "cell_type": "code",
      "source": [
        "#Q5\n",
        "\n",
        "class myComplex:\n",
        "  def __init__(self, re, im):\n",
        "    self.real = re\n",
        "    self.im = im\n",
        "  \n",
        "  def prnt(self):\n",
        "    if self.im >= 0:\n",
        "      print(self.real, \"+\", self.im,\"i\")\n",
        "    else:\n",
        "      print(self.real, \"-\", abs(self.im),\"i\")\n",
        "\n",
        "# csum() takes two complex numbers (objects of myComplex) and returns sum\n",
        "def csum(x,y):\n",
        "  p = x.real + y.real\n",
        "  q = x.im + y.im\n",
        "  sum = myComplex(p, q)\n",
        "  return(sum)\n",
        "\n",
        "# cprod() takes two complex numbers (objects of myComplex) and returns product  \n",
        "def cprod(x,y):\n",
        "  p = ((x.real)*(y.real)) - ((x.im)*(y.im))\n",
        "  q = ((x.real)*(y.im)) + ((x.im)*(y.real))\n",
        "  pr = myComplex(p, q)\n",
        "  return(pr)\n",
        "\n",
        "# cmod() a complex number (object of myComplex) and returns modulus\n",
        "def cmod(x):\n",
        "  m = (((x.real)**2) + ((x.im)**2))**(0.5)\n",
        "  return(m)\n",
        "\n",
        "#The relevant functions have been defined generally, the following executed examples take given inputs.\n",
        "#The input/output may be done through separate files as well.\n",
        "\n",
        "a = myComplex(3, -2) #Dummy Inputs : Change inputs here \n",
        "b = myComplex(1, 2) #Dummy Inputs : Change inputs here\n",
        "\n",
        "c = csum(a, b)\n",
        "print(\"Sum: \")\n",
        "c.prnt()\n",
        "print()\n",
        "\n",
        "c = cprod(a, b)\n",
        "print(\"Product: \")\n",
        "c.prnt()\n",
        "print()\n",
        "\n",
        "print(\"Modulus of\",end=\" \")\n",
        "a.prnt()\n",
        "print(cmod(a))\n",
        "print()\n",
        "print(\"Modulus of\",end=\" \")\n",
        "b.prnt()\n",
        "print(cmod(b))"
      ],
      "metadata": {
        "id": "3sa1K8VPyYtP",
        "colab": {
          "base_uri": "https://localhost:8080/"
        },
        "outputId": "51778713-3fd0-4614-b8f5-580bfaeb971e"
      },
      "execution_count": null,
      "outputs": [
        {
          "output_type": "stream",
          "name": "stdout",
          "text": [
            "Sum: \n",
            "4 + 0 i\n",
            "\n",
            "Product: \n",
            "7 + 4 i\n",
            "\n",
            "Modulus of 3 - 2 i\n",
            "3.605551275463989\n",
            "\n",
            "Modulus of 1 + 2 i\n",
            "2.23606797749979\n"
          ]
        }
      ]
    }
  ]
}